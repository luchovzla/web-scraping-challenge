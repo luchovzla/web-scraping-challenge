{
 "cells": [
  {
   "cell_type": "code",
   "execution_count": null,
   "metadata": {},
   "outputs": [],
   "source": [
    "# Dependencies\n",
    "import pandas as pd\n",
    "from bs4 import BeautifulSoup\n",
    "from splinter import Browser\n",
    "from webdriver_manager.chrome import ChromeDriverManager"
   ]
  },
  {
   "cell_type": "code",
   "execution_count": null,
   "metadata": {},
   "outputs": [],
   "source": [
    "# Splinter browser initialization\n",
    "executable_path = {'executable_path': ChromeDriverManager().install()}\n",
    "browser = Browser('chrome', **executable_path, headless=False)"
   ]
  },
  {
   "cell_type": "markdown",
   "metadata": {},
   "source": [
    "## NASA Mars News"
   ]
  },
  {
   "cell_type": "code",
   "execution_count": null,
   "metadata": {},
   "outputs": [],
   "source": [
    "# Import URL\n",
    "url = \"https://redplanetscience.com/#\""
   ]
  },
  {
   "cell_type": "code",
   "execution_count": null,
   "metadata": {},
   "outputs": [],
   "source": [
    "# Retrieve page using the browser\n",
    "browser.visit(url)"
   ]
  },
  {
   "cell_type": "code",
   "execution_count": null,
   "metadata": {},
   "outputs": [],
   "source": [
    "# Create HTML object and parse with html parser\n",
    "html = browser.html\n",
    "soup = BeautifulSoup(html, 'html.parser')"
   ]
  },
  {
   "cell_type": "code",
   "execution_count": null,
   "metadata": {},
   "outputs": [],
   "source": [
    "# Store contents of divs containing title and paragraph\n",
    "title = soup.find('div', class_ = 'content_title').text\n",
    "paragraph = soup.find('div', class_ = 'article_teaser_body').text"
   ]
  },
  {
   "cell_type": "markdown",
   "metadata": {},
   "source": [
    "## JPL Mars Space Images - Featured Image"
   ]
  },
  {
   "cell_type": "code",
   "execution_count": null,
   "metadata": {},
   "outputs": [],
   "source": [
    "# URL \n",
    "url = 'https://spaceimages-mars.com/'"
   ]
  },
  {
   "cell_type": "code",
   "execution_count": null,
   "metadata": {},
   "outputs": [],
   "source": [
    "# Visit using browser\n",
    "browser.visit(url)"
   ]
  },
  {
   "cell_type": "code",
   "execution_count": null,
   "metadata": {},
   "outputs": [],
   "source": [
    "# Retrieve html\n",
    "\n",
    "html = browser.html\n",
    "soup = BeautifulSoup(html, 'html.parser')"
   ]
  },
  {
   "cell_type": "code",
   "execution_count": null,
   "metadata": {},
   "outputs": [],
   "source": [
    "# Retrieve image data from the html parser and store in a variable\n",
    "\n",
    "image_url = soup.find('a', class_ = \"showimg fancybox-thumbs\")['href']\n",
    "featured_image_url = f\"{url}{image_url}\""
   ]
  },
  {
   "cell_type": "markdown",
   "metadata": {},
   "source": [
    "## Mars Facts"
   ]
  },
  {
   "cell_type": "code",
   "execution_count": null,
   "metadata": {},
   "outputs": [],
   "source": [
    "# Define URL and read using Pandas\n",
    "url = 'https://galaxyfacts-mars.com/'\n",
    "tables = pd.read_html(url)"
   ]
  },
  {
   "cell_type": "code",
   "execution_count": null,
   "metadata": {},
   "outputs": [],
   "source": [
    "# Extract table and transform to tidy up\n",
    "\n",
    "mars_facts_table = tables[0]\n",
    "mars_facts_table.columns = mars_facts_table.iloc[0]\n",
    "mars_facts_table = mars_facts_table.iloc[1:, ]\n",
    "mars_facts_table.set_index(\"Mars - Earth Comparison\", inplace = True)\n",
    "mars_facts_table"
   ]
  },
  {
   "cell_type": "code",
   "execution_count": null,
   "metadata": {},
   "outputs": [],
   "source": [
    "# Convert to HTML\n",
    "\n",
    "html_table = mars_facts_table.to_html()"
   ]
  },
  {
   "cell_type": "markdown",
   "metadata": {},
   "source": [
    "## Mars Hemispheres Data"
   ]
  },
  {
   "cell_type": "code",
   "execution_count": null,
   "metadata": {},
   "outputs": [],
   "source": [
    "# Set up URL of interest and visit using browser\n",
    "\n",
    "url = 'https://marshemispheres.com/'\n",
    "browser.visit(url)"
   ]
  },
  {
   "cell_type": "code",
   "execution_count": null,
   "metadata": {},
   "outputs": [],
   "source": [
    "html = browser.html\n",
    "soup = BeautifulSoup(html, 'html.parser')"
   ]
  },
  {
   "cell_type": "code",
   "execution_count": null,
   "metadata": {},
   "outputs": [],
   "source": [
    "hemi_list = []\n",
    "hemis = soup.find_all('h3')\n",
    "hemis\n",
    "\n",
    "for hemi in hemis:\n",
    "    hemi_name = hemi.text\n",
    "    hemi_list.append(hemi_name)\n",
    "\n",
    "del hemi_list[len(hemi_list) - 1]"
   ]
  },
  {
   "cell_type": "code",
   "execution_count": null,
   "metadata": {},
   "outputs": [],
   "source": [
    "# Hemisphere list to store dictionaries in\n",
    "\n",
    "hemisphere_image_urls = []\n",
    "\n",
    "# For loop to retrieve image URL and hemisphere name\n",
    "for hemi in hemi_list:\n",
    "    \n",
    "    # Retrieve html to know what I'm scraping for\n",
    "    browser.links.find_by_partial_text(hemi).click()\n",
    "    html = browser.html\n",
    "    soup = BeautifulSoup(html, 'html.parser')\n",
    "    hemisphere_dict = {}\n",
    "\n",
    "    # Extract the title\n",
    "    hemi_title = soup.find('div', class_ = 'cover')\n",
    "    hemi_title = hemi_title.h2.text.split(' ')[:-1]\n",
    "    hemi_title = \" \".join(hemi_title)\n",
    "    hemisphere_dict['title'] = hemi_title\n",
    "\n",
    "    # Extract image url\n",
    "    image_url = soup.find('ul').li.a['href']\n",
    "    hemisphere_dict['img_url'] = f\"{url}{image_url}\"\n",
    "    \n",
    "    # Append dict to list\n",
    "    hemisphere_image_urls.append(hemisphere_dict)\n",
    "    \n",
    "    # Go back to main page \n",
    "    browser.links.find_by_partial_text('Back').click()\n",
    "\n",
    "hemisphere_image_urls"
   ]
  },
  {
   "cell_type": "code",
   "execution_count": null,
   "metadata": {},
   "outputs": [],
   "source": [
    "# Quit browser instance\n",
    "browser.quit()"
   ]
  },
  {
   "cell_type": "code",
   "execution_count": null,
   "metadata": {},
   "outputs": [],
   "source": []
  }
 ],
 "metadata": {
  "kernelspec": {
   "display_name": "Python 3",
   "language": "python",
   "name": "python3"
  },
  "language_info": {
   "codemirror_mode": {
    "name": "ipython",
    "version": 3
   },
   "file_extension": ".py",
   "mimetype": "text/x-python",
   "name": "python",
   "nbconvert_exporter": "python",
   "pygments_lexer": "ipython3",
   "version": "3.6.10"
  }
 },
 "nbformat": 4,
 "nbformat_minor": 4
}
